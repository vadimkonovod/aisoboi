{
 "cells": [
  {
   "cell_type": "code",
   "execution_count": 33,
   "metadata": {
    "collapsed": true
   },
   "outputs": [],
   "source": [
    "import json\n",
    "import networkx as nx\n",
    "\n",
    "items_file = 'items.jl'\n",
    "page_ids = {}\n",
    "relations = {}\n",
    "\n",
    "\n",
    "def print_top_pages(topPages, pagerank):\n",
    "    topUrls = {}\n",
    "    with open(items_file) as item_json:\n",
    "        for i, line in enumerate(item_json):\n",
    "            if i in topPages:\n",
    "                item = json.loads(line)\n",
    "                topUrls[i] = item\n",
    "\n",
    "    for i in topPages:\n",
    "        print topUrls[i]['url']\n",
    "        print 'pagerank: ', pagerank[i]\n",
    "        print topUrls[i]['snippet']\n",
    "        print\n",
    "\n",
    "with open(items_file) as item_json:\n",
    "    for line in item_json:\n",
    "        item = json.loads(line)\n",
    "        page_ids[item['url']] = item['id']\n",
    "\n",
    "with open(items_file) as item_json:\n",
    "    for line in item_json:\n",
    "        item = json.loads(line)\n",
    "        relations[item['id']] = [page_ids[url] for url in item['links'] if url in page_ids]\n",
    "\n",
    "graph = nx.DiGraph()\n",
    "graph.add_nodes_from(relations.keys())\n",
    "for from_id in relations:\n",
    "    graph.add_edges_from([(from_id, to_id) for to_id in relations[from_id]])"
   ]
  },
  {
   "cell_type": "code",
   "execution_count": 34,
   "metadata": {
    "collapsed": false
   },
   "outputs": [
    {
     "name": "stdout",
     "output_type": "stream",
     "text": [
      "https://en.wikipedia.org/wiki/Canada\n",
      "pagerank:  0.0202485680213\n",
      "Coordinates: 60°N 95°W﻿ / ﻿60°N 95°W﻿ / 60; -95...\n",
      "\n",
      "https://ru.wikipedia.org/wiki/%D0%94%D1%80%D0%B5%D0%B2%D0%BD%D0%B5%D0%B3%D1%80%D0%B5%D1%87%D0%B5%D1%81%D0%BA%D0%B8%D0%B9_%D1%8F%D0%B7%D1%8B%D0%BA\n",
      "pagerank:  0.00745814710648\n",
      "Древнегре́ческий язы́к (самоназв. ἡ Ἑλληνική γλῶσσ) — язык индоевропейской семьи, предок греческого языка, распространённый на территории греческой ойкумены в эпоху с начала II тысячелетия до н. э. до IV века нашей эры. В наши дни используется в церквях и...\n",
      "\n",
      "https://en.wikipedia.org/wiki/Chinese_language\n",
      "pagerank:  0.00686092120512\n",
      "Chinese (汉语/漢語; Hànyǔ or 中文; Zhōngwén) is a group of related, but in many cases mutually unintelligible, language varieties, forming a branch of the Sino-Tibetan language family. Chinese is spoken by the Han majority and many other ethnic groups in China....\n",
      "\n",
      "https://en.wikipedia.org/wiki/Provinces_and_territories_of_Canada\n",
      "pagerank:  0.00636456468609\n",
      "Canada's geography is divided into administrative divisions known as provinces and territories that are responsible for delivery of sub-national governance. When Canada was formed in 1867, three provinces of British North America—New Brunswick, Nova Scoti...\n",
      "\n",
      "https://ru.wikipedia.org/wiki/%D0%9A%D0%BE%D1%80%D0%B8%D0%BD%D1%84\n",
      "pagerank:  0.00596043119781\n",
      "Кори́нф[2], (др.-греч. Ϙόρινθος, греч. Κόρινθος, Коринтос[3]) — древнегреческий полис и современный город на Коринфском перешейке, соединяющем материковую Грецию и полуостров Пелопоннес; с запада перешеек омывается водами Коринфского залива, с востока — з...\n",
      "\n",
      "https://en.wikipedia.org/wiki/Song_dynasty\n",
      "pagerank:  0.00577457583121\n",
      "The Song dynasty (Chinese: 宋朝; pinyin: Sòng cháo; 960–1279) was an era of Chinese history that began in 960 and continued until 1279. It succeeded the Five Dynasties and Ten Kingdoms period, coincided with the Liao and Western Xia dynasties, and was follo...\n",
      "\n",
      "https://en.wikipedia.org/wiki/Euro-Canadian\n",
      "pagerank:  0.00566458287618\n",
      "European Canadians (also known as Euro-Canadians) are Canadians with ancestry from Europe.[2]...\n",
      "\n",
      "https://en.wikipedia.org/wiki/The_Canadian_Crown_and_Aboriginal_peoples\n",
      "pagerank:  0.00566458287618\n",
      "The association between the Canadian Crown and Indigenous peoples of Canada stretches back to the first decisions between North American Indigenous peoples and European colonialists and, over centuries of interface, treaties were established concerning th...\n",
      "\n",
      "https://en.wikipedia.org/wiki/World_Trade_Organization\n",
      "pagerank:  0.00560916947874\n",
      "The World Trade Organization (WTO) is an intergovernmental organization which regulates international trade. The WTO officially commenced on 1 January 1995 under the Marrakesh Agreement, signed by 123 nations on 15 April 1994, replacing the General Agreem...\n",
      "\n",
      "https://en.wikipedia.org/wiki/K%C3%B6ppen_climate_classification\n",
      "pagerank:  0.00538557914549\n",
      "Köppen climate classification is one of the most widely used climate classification systems. It was first published by Russian German climatologist Wladimir Köppen in 1884,[2][3] with several later modifications by Köppen, notably in 1918 and 1936.[4][5] ...\n",
      "\n"
     ]
    }
   ],
   "source": [
    "pagerank = nx.pagerank(graph)\n",
    "print_top_pages(sorted(pagerank, key=lambda k: pagerank[k], reverse=True)[:10], pagerank)"
   ]
  }
 ],
 "metadata": {
  "kernelspec": {
   "display_name": "Python 2",
   "language": "python",
   "name": "python2"
  },
  "language_info": {
   "codemirror_mode": {
    "name": "ipython",
    "version": 2
   },
   "file_extension": ".py",
   "mimetype": "text/x-python",
   "name": "python",
   "nbconvert_exporter": "python",
   "pygments_lexer": "ipython2",
   "version": "2.7.11"
  }
 },
 "nbformat": 4,
 "nbformat_minor": 0
}
